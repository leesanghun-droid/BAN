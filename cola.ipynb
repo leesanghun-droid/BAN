{
 "cells": [
  {
   "cell_type": "code",
   "execution_count": 1,
   "id": "3f5861f3",
   "metadata": {},
   "outputs": [
    {
     "data": {
      "text/plain": [
       "2"
      ]
     },
     "execution_count": 1,
     "metadata": {},
     "output_type": "execute_result"
    }
   ],
   "source": [
    "1+1"
   ]
  },
  {
   "cell_type": "code",
   "execution_count": 2,
   "id": "7306d571",
   "metadata": {},
   "outputs": [
    {
     "data": {
      "text/plain": [
       "1100"
      ]
     },
     "execution_count": 2,
     "metadata": {},
     "output_type": "execute_result"
    }
   ],
   "source": [
    "1000+100"
   ]
  },
  {
   "cell_type": "code",
   "execution_count": 3,
   "id": "c29346cc",
   "metadata": {
    "scrolled": true
   },
   "outputs": [
    {
     "data": {
      "text/plain": [
       "9090.90909090909"
      ]
     },
     "execution_count": 3,
     "metadata": {},
     "output_type": "execute_result"
    }
   ],
   "source": [
    "10000/1.1"
   ]
  },
  {
   "cell_type": "code",
   "execution_count": 4,
   "id": "a1f44e25",
   "metadata": {},
   "outputs": [
    {
     "data": {
      "text/plain": [
       "9090.91"
      ]
     },
     "execution_count": 4,
     "metadata": {},
     "output_type": "execute_result"
    }
   ],
   "source": [
    "round(10000/1.1,2)"
   ]
  },
  {
   "cell_type": "code",
   "execution_count": 5,
   "id": "c860ac30",
   "metadata": {
    "scrolled": true
   },
   "outputs": [
    {
     "data": {
      "text/plain": [
       "9090.9"
      ]
     },
     "execution_count": 5,
     "metadata": {},
     "output_type": "execute_result"
    }
   ],
   "source": [
    "round(10000/1.1,1)"
   ]
  },
  {
   "cell_type": "code",
   "execution_count": 12,
   "id": "2a6d86e1",
   "metadata": {},
   "outputs": [],
   "source": [
    "cola = True\n",
    "sanghun = False"
   ]
  },
  {
   "cell_type": "code",
   "execution_count": 13,
   "id": "b5ff9663",
   "metadata": {},
   "outputs": [
    {
     "name": "stdout",
     "output_type": "stream",
     "text": [
      "run\n"
     ]
    }
   ],
   "source": [
    "if cola:\n",
    "    print(\"run\")\n",
    "else:\n",
    "    print(\"stay\")"
   ]
  },
  {
   "cell_type": "code",
   "execution_count": null,
   "id": "a6340055",
   "metadata": {},
   "outputs": [],
   "source": []
  },
  {
   "cell_type": "code",
   "execution_count": null,
   "id": "0e37a810",
   "metadata": {},
   "outputs": [],
   "source": []
  },
  {
   "cell_type": "code",
   "execution_count": null,
   "id": "a27ed7b7",
   "metadata": {},
   "outputs": [],
   "source": []
  }
 ],
 "metadata": {
  "kernelspec": {
   "display_name": "Python 3 (ipykernel)",
   "language": "python",
   "name": "python3"
  },
  "language_info": {
   "codemirror_mode": {
    "name": "ipython",
    "version": 3
   },
   "file_extension": ".py",
   "mimetype": "text/x-python",
   "name": "python",
   "nbconvert_exporter": "python",
   "pygments_lexer": "ipython3",
   "version": "3.8.10"
  }
 },
 "nbformat": 4,
 "nbformat_minor": 5
}
